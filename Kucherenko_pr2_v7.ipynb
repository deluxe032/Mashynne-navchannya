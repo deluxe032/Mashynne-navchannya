{
 "cells": [
  {
   "cell_type": "code",
   "execution_count": null,
   "id": "088e67bd",
   "metadata": {},
   "outputs": [],
   "source": [
    "### Завдання 1. GDP (номінальний ВВП за країнами)\n",
    "import pandas as pd\n",
    "import numpy as np\n",
    "import matplotlib.pyplot as plt\n",
    "\n",
    "# 1. Зчитати датасет з Вікіпедії\n",
    "url = 'https://en.wikipedia.org/wiki/List_of_countries_by_GDP_(nominal)'\n",
    "tables = pd.read_html(url)\n",
    "df = tables[2]  # вибір однієї з таблиць\n",
    "print(df.head())"
   ]
  },
  {
   "cell_type": "code",
   "execution_count": null,
   "id": "5c98edd0",
   "metadata": {},
   "outputs": [],
   "source": [
    "# 2. Розмір датасету\n",
    "print('Розмір датасету:', df.shape)"
   ]
  },
  {
   "cell_type": "code",
   "execution_count": null,
   "id": "7b8c5d13",
   "metadata": {},
   "outputs": [],
   "source": [
    "# 3. Оптимальна кількість стовпців (виводимо всі)\n",
    "pd.set_option('display.max_columns', None)\n",
    "df.head()"
   ]
  },
  {
   "cell_type": "code",
   "execution_count": null,
   "id": "f267db39",
   "metadata": {},
   "outputs": [],
   "source": [
    "# 4. Перейменування стовпців\n",
    "df.columns = ['Country', 'MVF_2024', 'WorldBank_2023', 'OON_2022']\n",
    "df.head()"
   ]
  },
  {
   "cell_type": "code",
   "execution_count": null,
   "id": "3a14244f",
   "metadata": {},
   "outputs": [],
   "source": [
    "# 5. Типи даних\n",
    "print(df.dtypes)"
   ]
  },
  {
   "cell_type": "code",
   "execution_count": null,
   "id": "e8bb6ee2",
   "metadata": {},
   "outputs": [],
   "source": [
    "# 6. Замінити '—' на NaN і перевірити пропуски\n",
    "df = df.replace('—', np.nan)\n",
    "print(df.isna().sum())\n",
    "\n",
    "df = df.apply(pd.to_numeric, errors='ignore')\n",
    "df = df.fillna(df.mean(numeric_only=True))"
   ]
  },
  {
   "cell_type": "code",
   "execution_count": null,
   "id": "ab6a4209",
   "metadata": {},
   "outputs": [],
   "source": [
    "# 7. Повторна перевірка пропусків\n",
    "print(df.isna().sum())"
   ]
  },
  {
   "cell_type": "code",
   "execution_count": null,
   "id": "bedbdd5a",
   "metadata": {},
   "outputs": [],
   "source": [
    "# 8. Перевірка дублікатів\n",
    "print('Дублікатів:', df.duplicated().sum())\n",
    "df = df.drop_duplicates()"
   ]
  },
  {
   "cell_type": "code",
   "execution_count": null,
   "id": "3b548b93",
   "metadata": {},
   "outputs": [],
   "source": [
    "# 9. Описова статистика\n",
    "print(df.describe())"
   ]
  },
  {
   "cell_type": "code",
   "execution_count": null,
   "id": "23bf7ad5",
   "metadata": {},
   "outputs": [],
   "source": [
    "# 10. Відхилення між MVF_2024 і WorldBank_2023\n",
    "df['Diff'] = df['MVF_2024'] - df['WorldBank_2023']\n",
    "print(df[['Country', 'Diff']].sort_values('Diff', ascending=False).head())"
   ]
  },
  {
   "cell_type": "code",
   "execution_count": null,
   "id": "c9c7ac30",
   "metadata": {},
   "outputs": [],
   "source": [
    "# 11. Кореляція між стовпцями\n",
    "print(df[['MVF_2024','WorldBank_2023','OON_2022']].corr())"
   ]
  },
  {
   "cell_type": "code",
   "execution_count": null,
   "id": "0ea09222",
   "metadata": {},
   "outputs": [],
   "source": [
    "# 12. Середні значення по роках\n",
    "print(df[['MVF_2024','WorldBank_2023','OON_2022']].mean())"
   ]
  },
  {
   "cell_type": "code",
   "execution_count": null,
   "id": "dd5c1366",
   "metadata": {},
   "outputs": [],
   "source": [
    "# 13. Стандартне відхилення між роками для кожної країни\n",
    "df['std'] = df[['MVF_2024','WorldBank_2023','OON_2022']].std(axis=1)\n",
    "print(df[['Country','std']].sort_values('std', ascending=False).head())"
   ]
  },
  {
   "cell_type": "code",
   "execution_count": null,
   "id": "f8366742",
   "metadata": {},
   "outputs": [],
   "source": [
    "# 14. Країни з найвищими і найнижчими показниками\n",
    "print('Найвищий MVF_2024:', df.loc[df['MVF_2024'].idxmax(), 'Country'])\n",
    "print('Найнижчий MVF_2024:', df.loc[df['MVF_2024'].idxmin(), 'Country'])"
   ]
  },
  {
   "cell_type": "code",
   "execution_count": null,
   "id": "8fe8d067",
   "metadata": {},
   "outputs": [],
   "source": [
    "# 15. Гістограма розподілу MVF_2024\n",
    "plt.hist(df['MVF_2024'].dropna(), bins=20)\n",
    "plt.title('Розподіл MVF_2024')\n",
    "plt.xlabel('ВВП (млн $)')\n",
    "plt.ylabel('Кількість країн')\n",
    "plt.show()"
   ]
  },
  {
   "cell_type": "code",
   "execution_count": null,
   "id": "91cf1e4f",
   "metadata": {},
   "outputs": [],
   "source": [
    "# 16. Частка кожної країни в загальному значенні\n",
    "shares = df[['MVF_2024','WorldBank_2023','OON_2022']].div(df[['MVF_2024','WorldBank_2023','OON_2022']].sum())\n",
    "print(shares.head())"
   ]
  },
  {
   "cell_type": "code",
   "execution_count": null,
   "id": "cf90f38d",
   "metadata": {},
   "outputs": [],
   "source": [
    "# 17. Візуалізація змін у показниках\n",
    "df_sample = df.head(10).set_index('Country')[['MVF_2024','WorldBank_2023','OON_2022']]\n",
    "df_sample.T.plot(kind='line', figsize=(10,5))\n",
    "plt.title('Зміни ВВП для вибраних країн')\n",
    "plt.show()"
   ]
  },
  {
   "cell_type": "code",
   "execution_count": null,
   "id": "2f686377",
   "metadata": {},
   "outputs": [],
   "source": [
    "### Завдання 2. Titanic dataset\n",
    "# Завантаження датасету\n",
    "url = 'https://raw.githubusercontent.com/datasciencedojo/datasets/master/titanic.csv'\n",
    "titanic = pd.read_csv(url)\n",
    "print(titanic.head())"
   ]
  },
  {
   "cell_type": "code",
   "execution_count": null,
   "id": "2e68433a",
   "metadata": {},
   "outputs": [],
   "source": [
    "# 2. Розмір датасету\n",
    "print('Розмір:', titanic.shape)"
   ]
  },
  {
   "cell_type": "code",
   "execution_count": null,
   "id": "6f3b0b18",
   "metadata": {},
   "outputs": [],
   "source": [
    "# 3. Типи даних\n",
    "print(titanic.dtypes)"
   ]
  },
  {
   "cell_type": "code",
   "execution_count": null,
   "id": "a46eb0d3",
   "metadata": {},
   "outputs": [],
   "source": [
    "# 4. Перевірка пропусків та заміна на середнє\n",
    "print(titanic.isna().sum())\n",
    "titanic = titanic.fillna(titanic.mean(numeric_only=True))"
   ]
  },
  {
   "cell_type": "code",
   "execution_count": null,
   "id": "af2a3754",
   "metadata": {},
   "outputs": [],
   "source": [
    "# 5. Повторна перевірка\n",
    "print(titanic.isna().sum())"
   ]
  },
  {
   "cell_type": "code",
   "execution_count": null,
   "id": "e6825890",
   "metadata": {},
   "outputs": [],
   "source": [
    "# 6. Перевірка дублікатів\n",
    "print('Дублікатів:', titanic.duplicated().sum())\n",
    "titanic = titanic.drop_duplicates()"
   ]
  },
  {
   "cell_type": "code",
   "execution_count": null,
   "id": "643c95eb",
   "metadata": {},
   "outputs": [],
   "source": [
    "# 7. Описова статистика\n",
    "print(titanic.describe())"
   ]
  },
  {
   "cell_type": "code",
   "execution_count": null,
   "id": "d1db1c37",
   "metadata": {},
   "outputs": [],
   "source": [
    "# 8. Видалення Cabin\n",
    "titanic = titanic.drop(columns=['Cabin'], errors='ignore')"
   ]
  },
  {
   "cell_type": "code",
   "execution_count": null,
   "id": "de232348",
   "metadata": {},
   "outputs": [],
   "source": [
    "# 9. Вибір потрібних стовпців\n",
    "data = titanic[['Survived','Pclass','Sex','Age','Fare']].copy()\n",
    "data.head()"
   ]
  },
  {
   "cell_type": "code",
   "execution_count": null,
   "id": "729c1c88",
   "metadata": {},
   "outputs": [],
   "source": [
    "# 10. Замінити стать на 0/1\n",
    "data['Sex'] = data['Sex'].map({'male':0,'female':1})\n",
    "print(data['Sex'].unique())"
   ]
  },
  {
   "cell_type": "code",
   "execution_count": null,
   "id": "09183961",
   "metadata": {},
   "outputs": [],
   "source": [
    "# 11. Перевірка пропусків\n",
    "print(data.isna().sum())"
   ]
  },
  {
   "cell_type": "code",
   "execution_count": null,
   "id": "b02dadb4",
   "metadata": {},
   "outputs": [],
   "source": [
    "# 12–13. Перші та останні рядки\n",
    "print(data.head())\n",
    "print(data.tail())"
   ]
  },
  {
   "cell_type": "code",
   "execution_count": null,
   "id": "ac2efd60",
   "metadata": {},
   "outputs": [],
   "source": [
    "# 14. Виживання за статтю\n",
    "print(data.groupby('Sex')['Survived'].mean()*100)"
   ]
  },
  {
   "cell_type": "code",
   "execution_count": null,
   "id": "d04eb67c",
   "metadata": {},
   "outputs": [],
   "source": [
    "# 15. Виживання за класом\n",
    "print(data.groupby('Pclass')['Survived'].mean()*100)"
   ]
  },
  {
   "cell_type": "code",
   "execution_count": null,
   "id": "df7f3012",
   "metadata": {},
   "outputs": [],
   "source": [
    "# 16. Середній вік виживших/не виживших\n",
    "print(data.groupby('Survived')['Age'].mean())"
   ]
  },
  {
   "cell_type": "code",
   "execution_count": null,
   "id": "6aa6f25d",
   "metadata": {},
   "outputs": [],
   "source": [
    "# 17. Групи за тарифами (Fare)\n",
    "data['FareGroup'] = pd.cut(data['Fare'], bins=4)\n",
    "print(data.groupby('FareGroup')['Survived'].mean())"
   ]
  },
  {
   "cell_type": "code",
   "execution_count": null,
   "id": "9a3adf17",
   "metadata": {},
   "outputs": [],
   "source": [
    "# 18. Середній тариф за класами\n",
    "print(data.groupby('Pclass')['Fare'].mean())"
   ]
  },
  {
   "cell_type": "code",
   "execution_count": null,
   "id": "6761c2be",
   "metadata": {},
   "outputs": [],
   "source": [
    "# 19. Середній вік за класами\n",
    "print(data.groupby('Pclass')['Age'].mean())"
   ]
  },
  {
   "cell_type": "code",
   "execution_count": null,
   "id": "606c38b3",
   "metadata": {},
   "outputs": [],
   "source": [
    "# 20. Гістограма розподілу віку\n",
    "plt.hist(data[data['Survived']==1]['Age'], bins=20, alpha=0.7, label='Вижив')\n",
    "plt.hist(data[data['Survived']==0]['Age'], bins=20, alpha=0.7, label='Не вижив')\n",
    "plt.legend()\n",
    "plt.title('Розподіл віку')\n",
    "plt.show()"
   ]
  },
  {
   "cell_type": "code",
   "execution_count": null,
   "id": "37bf0dcd",
   "metadata": {},
   "outputs": [],
   "source": [
    "# 21. Виживання за статтю і класом\n",
    "print(data.groupby(['Sex','Pclass'])['Survived'].mean()*100)"
   ]
  },
  {
   "cell_type": "code",
   "execution_count": null,
   "id": "7f9ffb28",
   "metadata": {},
   "outputs": [],
   "source": [
    "# 22. Кореляція\n",
    "print(data.corr(numeric_only=True))"
   ]
  },
  {
   "cell_type": "markdown",
   "id": "03e8ccb1",
   "metadata": {},
   "source": [
    "### Висновок 1"
   ]
  },
  {
   "cell_type": "code",
   "execution_count": null,
   "id": "be0071d6",
   "metadata": {},
   "outputs": [],
   "source": [
    "# Висновок:\n",
    "# Проведено попередній аналіз даних ВВП за країнами, очищено дані, обчислено кореляції, побудовано графіки."
   ]
  },
  {
   "cell_type": "markdown",
   "id": "8c4362cb",
   "metadata": {},
   "source": [
    "### Висновок 2"
   ]
  },
  {
   "cell_type": "code",
   "execution_count": null,
   "id": "ee1fdaaa",
   "metadata": {},
   "outputs": [],
   "source": [
    "# Висновок:\n",
    "# Проведено аналіз даних Titanic: оброблено пропущені дані, виконано статистичний аналіз, досліджено фактори виживання."
   ]
  }
 ],
 "metadata": {},
 "nbformat": 4,
 "nbformat_minor": 5
}
