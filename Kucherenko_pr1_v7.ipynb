{
 "cells": [
  {
   "cell_type": "markdown",
   "id": "4a606036",
   "metadata": {},
   "source": [
    "### Завдання 1"
   ]
  },
  {
   "cell_type": "code",
   "execution_count": null,
   "id": "40fed9f1",
   "metadata": {},
   "outputs": [],
   "source": [
    "# Завдання 1\n",
    "import numpy as np\n",
    "arr = np.arange(30, -2, -2)\n",
    "print(arr)"
   ]
  },
  {
   "cell_type": "markdown",
   "id": "40cb7318",
   "metadata": {},
   "source": [
    "### Завдання 2"
   ]
  },
  {
   "cell_type": "code",
   "execution_count": null,
   "id": "4407de24",
   "metadata": {},
   "outputs": [],
   "source": [
    "# Завдання 2\n",
    "import numpy as np\n",
    "matrix = np.array([[((i+1)**2)*(2*(i+1)) for i in range(3)] for j in range(3)])\n",
    "print(matrix)"
   ]
  },
  {
   "cell_type": "markdown",
   "id": "3bcda504",
   "metadata": {},
   "source": [
    "### Завдання 3"
   ]
  },
  {
   "cell_type": "code",
   "execution_count": null,
   "id": "9a9f0b04",
   "metadata": {},
   "outputs": [],
   "source": [
    "# Завдання 3\n",
    "import numpy as np\n",
    "rand_matrix = np.random.uniform(-5, 5, (3,3))\n",
    "print(rand_matrix)"
   ]
  },
  {
   "cell_type": "markdown",
   "id": "2999cbc3",
   "metadata": {},
   "source": [
    "### Завдання 4"
   ]
  },
  {
   "cell_type": "code",
   "execution_count": null,
   "id": "1e8c6ecf",
   "metadata": {},
   "outputs": [],
   "source": [
    "# Завдання 4\n",
    "import numpy as np\n",
    "m = np.random.rand(4,4)\n",
    "mean_vector = np.mean(m, axis=0)\n",
    "print('Matrix:\\n', m)\n",
    "print('Mean vector:', mean_vector)"
   ]
  },
  {
   "cell_type": "markdown",
   "id": "97a2e0d1",
   "metadata": {},
   "source": [
    "### Завдання 5"
   ]
  },
  {
   "cell_type": "code",
   "execution_count": null,
   "id": "88455f0f",
   "metadata": {},
   "outputs": [],
   "source": [
    "# Завдання 5\n",
    "import numpy as np\n",
    "a = np.random.uniform(-2.5, 2.5, 7)\n",
    "b = np.random.uniform(-2.5, 2.5, 7)\n",
    "print('a+b=', a+b)\n",
    "print('a-b=', a-b)\n",
    "print('a*b=', a*b)"
   ]
  },
  {
   "cell_type": "markdown",
   "id": "79e6d054",
   "metadata": {},
   "source": [
    "### Завдання 6"
   ]
  },
  {
   "cell_type": "code",
   "execution_count": null,
   "id": "ae74bfa3",
   "metadata": {},
   "outputs": [],
   "source": [
    "# Завдання 6\n",
    "import numpy as np\n",
    "A = np.random.randint(1, 51, (3,3))\n",
    "B = np.random.randint(1, 51, (3,3))\n",
    "print('A\\n',A)\n",
    "print('B\\n',B)\n",
    "print('A*B=\\n', np.dot(A,B))"
   ]
  },
  {
   "cell_type": "markdown",
   "id": "042d10fa",
   "metadata": {},
   "source": [
    "### Завдання 7"
   ]
  },
  {
   "cell_type": "code",
   "execution_count": null,
   "id": "5de1faa7",
   "metadata": {},
   "outputs": [],
   "source": [
    "# Завдання 7\n",
    "import numpy as np\n",
    "A = np.random.randint(1,7,(4,2))\n",
    "B = np.random.randint(1,7,(2,2))\n",
    "print('A\\n',A)\n",
    "print('B\\n',B)\n",
    "print('A*B=\\n',np.dot(A,B))"
   ]
  },
  {
   "cell_type": "markdown",
   "id": "d51210ef",
   "metadata": {},
   "source": [
    "### Завдання 8"
   ]
  },
  {
   "cell_type": "code",
   "execution_count": null,
   "id": "56ee5a30",
   "metadata": {},
   "outputs": [],
   "source": [
    "# Завдання 8\n",
    "import numpy as np\n",
    "M = np.random.randint(1,13,(2,2))\n",
    "inv_M = np.linalg.inv(M)\n",
    "print('M=\\n',M)\n",
    "print('M^-1=\\n',inv_M)"
   ]
  },
  {
   "cell_type": "markdown",
   "id": "0cdd3928",
   "metadata": {},
   "source": [
    "### Завдання 9"
   ]
  },
  {
   "cell_type": "code",
   "execution_count": null,
   "id": "1955a834",
   "metadata": {},
   "outputs": [],
   "source": [
    "# Завдання 9\n",
    "import numpy as np\n",
    "M = np.random.randint(0,2,(3,3))\n",
    "print('M=\\n',M)\n",
    "print('M^T=\\n',M.T)"
   ]
  },
  {
   "cell_type": "markdown",
   "id": "d101e4b3",
   "metadata": {},
   "source": [
    "### Завдання 10"
   ]
  },
  {
   "cell_type": "code",
   "execution_count": null,
   "id": "3dbea94c",
   "metadata": {},
   "outputs": [],
   "source": [
    "# Завдання 10\n",
    "import numpy as np\n",
    "M = np.random.randint(-5,6,(3,4))\n",
    "v = np.random.randint(1,11,(4,1))\n",
    "print('M=\\n',M)\n",
    "print('v=\\n',v)\n",
    "print('M*v=\\n',np.dot(M,v))"
   ]
  },
  {
   "cell_type": "markdown",
   "id": "7fabaa90",
   "metadata": {},
   "source": [
    "### Завдання 11"
   ]
  },
  {
   "cell_type": "code",
   "execution_count": null,
   "id": "188a002c",
   "metadata": {},
   "outputs": [],
   "source": [
    "# Завдання 11\n",
    "import numpy as np\n",
    "M = np.random.rand(2,3)\n",
    "v = np.random.randint(1,11,(3,1))\n",
    "print('M=\\n',M)\n",
    "print('v=\\n',v)\n",
    "print('M*v=\\n',np.dot(M,v))"
   ]
  },
  {
   "cell_type": "markdown",
   "id": "f83cd429",
   "metadata": {},
   "source": [
    "### Завдання 12"
   ]
  },
  {
   "cell_type": "code",
   "execution_count": null,
   "id": "155c5593",
   "metadata": {},
   "outputs": [],
   "source": [
    "# Завдання 12\n",
    "import numpy as np\n",
    "A = np.random.randint(1,11,(8,8))\n",
    "B = np.random.randint(1,11,(8,8))\n",
    "print('A+B=\\n',A+B)"
   ]
  },
  {
   "cell_type": "markdown",
   "id": "5643cfa5",
   "metadata": {},
   "source": [
    "### Завдання 13"
   ]
  },
  {
   "cell_type": "code",
   "execution_count": null,
   "id": "7ecbf0de",
   "metadata": {},
   "outputs": [],
   "source": [
    "# Завдання 13\n",
    "import numpy as np\n",
    "A = np.random.uniform(-1,1,(8,8))\n",
    "B = np.random.uniform(-1,1,(8,8))\n",
    "print('A-B=\\n',A-B)"
   ]
  },
  {
   "cell_type": "markdown",
   "id": "525ce186",
   "metadata": {},
   "source": [
    "### Завдання 14"
   ]
  },
  {
   "cell_type": "code",
   "execution_count": null,
   "id": "8d229c58",
   "metadata": {},
   "outputs": [],
   "source": [
    "# Завдання 14\n",
    "import numpy as np\n",
    "M = np.random.rand(5,5)\n",
    "print('Average value:', np.mean(M))"
   ]
  },
  {
   "cell_type": "markdown",
   "id": "7db61e15",
   "metadata": {},
   "source": [
    "### Завдання 15"
   ]
  },
  {
   "cell_type": "code",
   "execution_count": null,
   "id": "136ee24c",
   "metadata": {},
   "outputs": [],
   "source": [
    "# Завдання 15\n",
    "import numpy as np\n",
    "M = np.random.uniform(-0.5,0.5,(9,9))\n",
    "max_vals = np.max(np.abs(M), axis=1).reshape(-1,1)\n",
    "print('M=\\n',M)\n",
    "print('Max column vector:\\n',max_vals)"
   ]
  },
  {
   "cell_type": "markdown",
   "id": "03483001",
   "metadata": {},
   "source": [
    "### Висновок"
   ]
  },
  {
   "cell_type": "code",
   "execution_count": null,
   "id": "906f63e9",
   "metadata": {},
   "outputs": [],
   "source": [
    "# Висновок:\n",
    "# У ході виконання лабораторної роботи було опрацьовано основні операції з масивами та матрицями в бібліотеці NumPy."
   ]
  }
 ],
 "metadata": {},
 "nbformat": 4,
 "nbformat_minor": 5
}
